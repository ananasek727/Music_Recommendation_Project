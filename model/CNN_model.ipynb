{
 "cells": [
  {
   "cell_type": "code",
   "execution_count": 79,
   "id": "e7718083-87dc-4917-9384-6bfc130d7c2b",
   "metadata": {},
   "outputs": [],
   "source": [
    "import numpy as np\n",
    "import pandas as pd\n",
    "import cv2\n",
    "import matplotlib.pyplot as plt\n",
    "import pandas as pd\n",
    "import matplotlib.image as mpimg\n",
    "import shutil\n",
    "import random\n",
    "import os\n",
    "import datetime\n",
    "import tensorflow as tf\n",
    "\n",
    "from sklearn.utils import shuffle\n",
    "from PIL import Image\n",
    "from tensorflow.keras import regularizers\n",
    "from tensorflow.keras.layers import GlobalAveragePooling2D, Dense, Dropout, Activation, Flatten, Conv2D, MaxPooling2D, Resizing, Rescaling, RandomFlip, RandomRotation, RandomBrightness, RandomContrast, BatchNormalization\n",
    "from tensorflow.keras.optimizers import Adamax\n",
    "from tensorflow.keras.preprocessing.image import ImageDataGenerator\n",
    "from tensorflow.keras.models import Model, load_model, Sequential\n",
    "from tensorflow.keras.applications import ResNet50\n",
    "from tensorflow.keras.applications.resnet_v2 import preprocess_input\n",
    "from tensorflow.keras.callbacks import EarlyStopping, ReduceLROnPlateau\n",
    "from tensorflow.keras import Input, Model\n",
    "from sklearn.metrics import confusion_matrix, classification_report, ConfusionMatrixDisplay\n",
    "from sklearn.model_selection import train_test_split\n",
    "import json"
   ]
  },
  {
   "cell_type": "code",
   "execution_count": 80,
   "metadata": {
    "collapsed": false
   },
   "outputs": [
    {
     "name": "stdout",
     "output_type": "stream",
     "text": [
      "train data...\n",
      "angry\n",
      "disgust\n",
      "fear\n",
      "happy\n",
      "neutral\n",
      "sad\n",
      "surprise\n",
      "test data...\n",
      "angry\n",
      "disgust\n",
      "fear\n",
      "happy\n",
      "neutral\n",
      "sad\n",
      "surprise\n"
     ]
    }
   ],
   "source": [
    "path = \"../FER2013_ver2\"\n",
    "emotions = os.listdir(f\"{path}/train\")\n",
    "\n",
    "train_image = []\n",
    "train_emotion = []\n",
    "\n",
    "print(\"train data...\")\n",
    "for emotion in emotions:\n",
    "    image_path = f\"{path}/train/{emotion}\"\n",
    "    files = os.listdir(image_path)\n",
    "    print(emotion)\n",
    "    for file in files:\n",
    "        img = cv2.imread(f\"{image_path}/{file}\")\n",
    "        img = cv2.cvtColor(img, cv2.COLOR_BGR2GRAY)\n",
    "        img = cv2.resize(img, (48, 48))\n",
    "        train_image.append(img)\n",
    "        train_emotion.append(emotion)\n",
    "\n",
    "\n",
    "test_image = []\n",
    "test_emotion = []\n",
    "\n",
    "print(\"test data...\")\n",
    "for emotion in emotions:\n",
    "    image_path = f\"{path}/test/{emotion}\"\n",
    "    files = os.listdir(image_path)\n",
    "    print(emotion)\n",
    "    for file in files:\n",
    "        img = cv2.imread(f\"{image_path}/{file}\")\n",
    "        img = cv2.cvtColor(img, cv2.COLOR_BGR2GRAY)\n",
    "        img = cv2.resize(img, (48, 48))\n",
    "        test_image.append(img)\n",
    "        test_emotion.append(emotion)\n",
    "\n",
    "\n",
    "train_image = np.array(train_image)\n",
    "train_emotion = np.array(train_emotion)\n",
    "train_image, train_emotion = shuffle(train_image, train_emotion, random_state=0)\n",
    "\n",
    "test_image = np.array(test_image)\n",
    "test_emotion = np.array(test_emotion)\n",
    "test_image, test_emotion = shuffle(test_image, test_emotion, random_state=0)"
   ]
  },
  {
   "cell_type": "code",
   "execution_count": 81,
   "metadata": {
    "collapsed": false
   },
   "outputs": [
    {
     "name": "stdout",
     "output_type": "stream",
     "text": [
      "(48, 48)\n",
      "(3052,)\n",
      "(777, 48, 48)\n",
      "(777,)\n",
      "happy\n"
     ]
    }
   ],
   "source": [
    "print(train_image[5].shape)\n",
    "print(train_emotion.shape)\n",
    "print(test_image.shape)\n",
    "print(test_emotion.shape)\n",
    "print(train_emotion[5])"
   ]
  },
  {
   "cell_type": "code",
   "execution_count": 82,
   "metadata": {
    "collapsed": false
   },
   "outputs": [],
   "source": [
    "label_map = {'angry': 0, 'disgust': 1, 'fear': 2, 'happy': 3, 'neutral': 4, 'sad': 5, 'surprise': 6}\n",
    "train_emotion_int = [label_map[label] for label in train_emotion]\n",
    "train_emotion_int = np.array(train_emotion_int)\n",
    "\n",
    "test_emotion_int = [label_map[label] for label in test_emotion]\n",
    "test_emotion_int = np.array(test_emotion_int)"
   ]
  },
  {
   "cell_type": "code",
   "execution_count": 83,
   "metadata": {
    "collapsed": false
   },
   "outputs": [
    {
     "name": "stdout",
     "output_type": "stream",
     "text": [
      "(3052, 7)\n",
      "(777, 7)\n",
      "[0. 0. 0. 0. 0. 1. 0.]\n"
     ]
    }
   ],
   "source": [
    "from keras.utils import to_categorical\n",
    "train_emotion_onehot = to_categorical(train_emotion_int)\n",
    "test_emotion_onehot = to_categorical(test_emotion_int)\n",
    "print(train_emotion_onehot.shape)\n",
    "print(test_emotion_onehot.shape)\n",
    "print(train_emotion_onehot[4])"
   ]
  },
  {
   "cell_type": "code",
   "execution_count": 84,
   "outputs": [],
   "source": [
    "train_image = train_image.reshape((-1, 48, 48, 1))\n",
    "test_image = test_image.reshape((-1, 48, 48, 1))"
   ],
   "metadata": {
    "collapsed": false
   }
  },
  {
   "cell_type": "code",
   "execution_count": 85,
   "outputs": [
    {
     "data": {
      "text/plain": "(3052, 48, 48, 1)"
     },
     "execution_count": 85,
     "metadata": {},
     "output_type": "execute_result"
    }
   ],
   "source": [
    "train_image.shape"
   ],
   "metadata": {
    "collapsed": false
   }
  },
  {
   "cell_type": "code",
   "execution_count": 86,
   "id": "97cf9c4e-3a07-468e-a7e9-0be690d53f88",
   "metadata": {},
   "outputs": [
    {
     "name": "stdout",
     "output_type": "stream",
     "text": [
      "Model: \"sequential_28\"\n",
      "_________________________________________________________________\n",
      " Layer (type)                Output Shape              Param #   \n",
      "=================================================================\n",
      " conv2d_304 (Conv2D)         (None, 48, 48, 64)        640       \n",
      "                                                                 \n",
      " batch_normalization_296 (Ba  (None, 48, 48, 64)       256       \n",
      " tchNormalization)                                               \n",
      "                                                                 \n",
      " conv2d_305 (Conv2D)         (None, 48, 48, 64)        36928     \n",
      "                                                                 \n",
      " batch_normalization_297 (Ba  (None, 48, 48, 64)       256       \n",
      " tchNormalization)                                               \n",
      "                                                                 \n",
      " max_pooling2d_88 (MaxPoolin  (None, 24, 24, 64)       0         \n",
      " g2D)                                                            \n",
      "                                                                 \n",
      " dropout_90 (Dropout)        (None, 24, 24, 64)        0         \n",
      "                                                                 \n",
      " conv2d_306 (Conv2D)         (None, 24, 24, 128)       73856     \n",
      "                                                                 \n",
      " batch_normalization_298 (Ba  (None, 24, 24, 128)      512       \n",
      " tchNormalization)                                               \n",
      "                                                                 \n",
      " conv2d_307 (Conv2D)         (None, 24, 24, 128)       147584    \n",
      "                                                                 \n",
      " batch_normalization_299 (Ba  (None, 24, 24, 128)      512       \n",
      " tchNormalization)                                               \n",
      "                                                                 \n",
      " conv2d_308 (Conv2D)         (None, 24, 24, 128)       147584    \n",
      "                                                                 \n",
      " batch_normalization_300 (Ba  (None, 24, 24, 128)      512       \n",
      " tchNormalization)                                               \n",
      "                                                                 \n",
      " max_pooling2d_89 (MaxPoolin  (None, 12, 12, 128)      0         \n",
      " g2D)                                                            \n",
      "                                                                 \n",
      " dropout_91 (Dropout)        (None, 12, 12, 128)       0         \n",
      "                                                                 \n",
      " conv2d_309 (Conv2D)         (None, 12, 12, 256)       295168    \n",
      "                                                                 \n",
      " batch_normalization_301 (Ba  (None, 12, 12, 256)      1024      \n",
      " tchNormalization)                                               \n",
      "                                                                 \n",
      " conv2d_310 (Conv2D)         (None, 12, 12, 256)       590080    \n",
      "                                                                 \n",
      " batch_normalization_302 (Ba  (None, 12, 12, 256)      1024      \n",
      " tchNormalization)                                               \n",
      "                                                                 \n",
      " conv2d_311 (Conv2D)         (None, 12, 12, 256)       590080    \n",
      "                                                                 \n",
      " batch_normalization_303 (Ba  (None, 12, 12, 256)      1024      \n",
      " tchNormalization)                                               \n",
      "                                                                 \n",
      " conv2d_312 (Conv2D)         (None, 12, 12, 256)       590080    \n",
      "                                                                 \n",
      " batch_normalization_304 (Ba  (None, 12, 12, 256)      1024      \n",
      " tchNormalization)                                               \n",
      "                                                                 \n",
      " max_pooling2d_90 (MaxPoolin  (None, 6, 6, 256)        0         \n",
      " g2D)                                                            \n",
      "                                                                 \n",
      " dropout_92 (Dropout)        (None, 6, 6, 256)         0         \n",
      "                                                                 \n",
      " conv2d_313 (Conv2D)         (None, 6, 6, 256)         590080    \n",
      "                                                                 \n",
      " batch_normalization_305 (Ba  (None, 6, 6, 256)        1024      \n",
      " tchNormalization)                                               \n",
      "                                                                 \n",
      " conv2d_314 (Conv2D)         (None, 6, 6, 256)         590080    \n",
      "                                                                 \n",
      " batch_normalization_306 (Ba  (None, 6, 6, 256)        1024      \n",
      " tchNormalization)                                               \n",
      "                                                                 \n",
      " conv2d_315 (Conv2D)         (None, 6, 6, 256)         590080    \n",
      "                                                                 \n",
      " batch_normalization_307 (Ba  (None, 6, 6, 256)        1024      \n",
      " tchNormalization)                                               \n",
      "                                                                 \n",
      " conv2d_316 (Conv2D)         (None, 6, 6, 256)         590080    \n",
      "                                                                 \n",
      " batch_normalization_308 (Ba  (None, 6, 6, 256)        1024      \n",
      " tchNormalization)                                               \n",
      "                                                                 \n",
      " max_pooling2d_91 (MaxPoolin  (None, 3, 3, 256)        0         \n",
      " g2D)                                                            \n",
      "                                                                 \n",
      " dropout_93 (Dropout)        (None, 3, 3, 256)         0         \n",
      "                                                                 \n",
      " conv2d_317 (Conv2D)         (None, 3, 3, 512)         1180160   \n",
      "                                                                 \n",
      " batch_normalization_309 (Ba  (None, 3, 3, 512)        2048      \n",
      " tchNormalization)                                               \n",
      "                                                                 \n",
      " conv2d_318 (Conv2D)         (None, 3, 3, 512)         2359808   \n",
      "                                                                 \n",
      " batch_normalization_310 (Ba  (None, 3, 3, 512)        2048      \n",
      " tchNormalization)                                               \n",
      "                                                                 \n",
      " conv2d_319 (Conv2D)         (None, 3, 3, 512)         2359808   \n",
      "                                                                 \n",
      " batch_normalization_311 (Ba  (None, 3, 3, 512)        2048      \n",
      " tchNormalization)                                               \n",
      "                                                                 \n",
      " conv2d_320 (Conv2D)         (None, 3, 3, 512)         2359808   \n",
      "                                                                 \n",
      " batch_normalization_312 (Ba  (None, 3, 3, 512)        2048      \n",
      " tchNormalization)                                               \n",
      "                                                                 \n",
      " max_pooling2d_92 (MaxPoolin  (None, 1, 1, 512)        0         \n",
      " g2D)                                                            \n",
      "                                                                 \n",
      " dropout_94 (Dropout)        (None, 1, 1, 512)         0         \n",
      "                                                                 \n",
      " flatten_19 (Flatten)        (None, 512)               0         \n",
      "                                                                 \n",
      " dense_31 (Dense)            (None, 7)                 3591      \n",
      "                                                                 \n",
      "=================================================================\n",
      "Total params: 13,113,927\n",
      "Trainable params: 13,104,711\n",
      "Non-trainable params: 9,216\n",
      "_________________________________________________________________\n",
      "Epoch 1/100\n",
      "86/86 [==============================] - 91s 1s/step - loss: 3.3010 - accuracy: 0.1482 - val_loss: 75.5275 - val_accuracy: 0.1111\n",
      "Epoch 2/100\n",
      "86/86 [==============================] - 90s 1s/step - loss: 2.3904 - accuracy: 0.1806 - val_loss: 2.1504 - val_accuracy: 0.1765\n",
      "Epoch 3/100\n",
      "86/86 [==============================] - 86s 999ms/step - loss: 2.2740 - accuracy: 0.1919 - val_loss: 2.0298 - val_accuracy: 0.1275\n",
      "Epoch 4/100\n",
      "86/86 [==============================] - 87s 1s/step - loss: 2.2076 - accuracy: 0.2105 - val_loss: 1.9706 - val_accuracy: 0.1830\n",
      "Epoch 5/100\n",
      "86/86 [==============================] - 87s 1s/step - loss: 2.0758 - accuracy: 0.2382 - val_loss: 2.0072 - val_accuracy: 0.2059\n",
      "Epoch 6/100\n",
      "86/86 [==============================] - 86s 1s/step - loss: 2.1025 - accuracy: 0.2564 - val_loss: 1.9060 - val_accuracy: 0.1993\n",
      "Epoch 7/100\n",
      "86/86 [==============================] - 87s 1s/step - loss: 1.9642 - accuracy: 0.2870 - val_loss: 2.5179 - val_accuracy: 0.2418\n",
      "Epoch 8/100\n",
      "86/86 [==============================] - 88s 1s/step - loss: 1.9298 - accuracy: 0.3099 - val_loss: 1.8496 - val_accuracy: 0.2843\n",
      "Epoch 9/100\n",
      "86/86 [==============================] - 87s 1s/step - loss: 1.8086 - accuracy: 0.3485 - val_loss: 1.7798 - val_accuracy: 0.2810\n",
      "Epoch 10/100\n",
      "86/86 [==============================] - 87s 1s/step - loss: 1.7227 - accuracy: 0.3820 - val_loss: 1.8113 - val_accuracy: 0.3333\n",
      "Epoch 11/100\n",
      "86/86 [==============================] - 87s 1s/step - loss: 1.6368 - accuracy: 0.4090 - val_loss: 1.8414 - val_accuracy: 0.3399\n",
      "Epoch 12/100\n",
      "86/86 [==============================] - 87s 1s/step - loss: 1.5552 - accuracy: 0.4479 - val_loss: 1.9990 - val_accuracy: 0.3399\n",
      "Epoch 13/100\n",
      "86/86 [==============================] - 87s 1s/step - loss: 1.4756 - accuracy: 0.4778 - val_loss: 1.7527 - val_accuracy: 0.3824\n",
      "Epoch 14/100\n",
      "86/86 [==============================] - 87s 1s/step - loss: 1.3975 - accuracy: 0.4956 - val_loss: 1.8794 - val_accuracy: 0.3627\n",
      "Epoch 15/100\n",
      "86/86 [==============================] - 86s 1s/step - loss: 1.3134 - accuracy: 0.5113 - val_loss: 1.7290 - val_accuracy: 0.4020\n",
      "Epoch 16/100\n",
      "86/86 [==============================] - 86s 1s/step - loss: 1.2728 - accuracy: 0.5390 - val_loss: 1.6947 - val_accuracy: 0.3922\n",
      "Epoch 17/100\n",
      "86/86 [==============================] - 87s 1s/step - loss: 1.2015 - accuracy: 0.5568 - val_loss: 1.7137 - val_accuracy: 0.4248\n",
      "Epoch 18/100\n",
      "86/86 [==============================] - 86s 1s/step - loss: 1.1390 - accuracy: 0.5896 - val_loss: 1.9618 - val_accuracy: 0.3301\n",
      "Epoch 19/100\n",
      "86/86 [==============================] - 87s 1s/step - loss: 1.1218 - accuracy: 0.5932 - val_loss: 1.9172 - val_accuracy: 0.3987\n",
      "Epoch 20/100\n",
      "86/86 [==============================] - 86s 1s/step - loss: 1.0353 - accuracy: 0.6154 - val_loss: 1.9650 - val_accuracy: 0.3856\n",
      "Epoch 21/100\n",
      "86/86 [==============================] - 86s 1s/step - loss: 0.9868 - accuracy: 0.6264 - val_loss: 1.9759 - val_accuracy: 0.4020\n",
      "Epoch 22/100\n",
      "86/86 [==============================] - 87s 1s/step - loss: 0.9335 - accuracy: 0.6540 - val_loss: 1.9472 - val_accuracy: 0.3725\n",
      "Epoch 23/100\n",
      "86/86 [==============================] - 86s 1s/step - loss: 0.9014 - accuracy: 0.6781 - val_loss: 1.9274 - val_accuracy: 0.3987\n",
      "Epoch 24/100\n",
      "86/86 [==============================] - 87s 1s/step - loss: 0.8442 - accuracy: 0.6916 - val_loss: 1.8889 - val_accuracy: 0.4444\n",
      "Epoch 25/100\n",
      "86/86 [==============================] - 88s 1s/step - loss: 0.7504 - accuracy: 0.7305 - val_loss: 2.0780 - val_accuracy: 0.4216\n",
      "Epoch 26/100\n",
      "86/86 [==============================] - 86s 998ms/step - loss: 0.7218 - accuracy: 0.7323 - val_loss: 1.8667 - val_accuracy: 0.4346\n",
      "Epoch 27/100\n",
      "86/86 [==============================] - 85s 989ms/step - loss: 0.6917 - accuracy: 0.7520 - val_loss: 2.0966 - val_accuracy: 0.3922\n",
      "Epoch 28/100\n",
      "86/86 [==============================] - 85s 989ms/step - loss: 0.6709 - accuracy: 0.7502 - val_loss: 2.1135 - val_accuracy: 0.4575\n",
      "Epoch 29/100\n",
      "86/86 [==============================] - 84s 983ms/step - loss: 0.6248 - accuracy: 0.7771 - val_loss: 2.2446 - val_accuracy: 0.4085\n",
      "Epoch 30/100\n",
      "86/86 [==============================] - 84s 978ms/step - loss: 0.5507 - accuracy: 0.8063 - val_loss: 2.3326 - val_accuracy: 0.4183\n",
      "Epoch 31/100\n",
      "86/86 [==============================] - 85s 990ms/step - loss: 0.5508 - accuracy: 0.8084 - val_loss: 2.1327 - val_accuracy: 0.4608\n",
      "Epoch 32/100\n",
      "86/86 [==============================] - 84s 977ms/step - loss: 0.4564 - accuracy: 0.8430 - val_loss: 2.3123 - val_accuracy: 0.4542\n",
      "Epoch 33/100\n",
      "86/86 [==============================] - 84s 978ms/step - loss: 0.4363 - accuracy: 0.8463 - val_loss: 2.6084 - val_accuracy: 0.4118\n",
      "Epoch 34/100\n",
      "86/86 [==============================] - 84s 981ms/step - loss: 0.4097 - accuracy: 0.8540 - val_loss: 2.5998 - val_accuracy: 0.3954\n",
      "Epoch 35/100\n",
      "86/86 [==============================] - 84s 979ms/step - loss: 0.3679 - accuracy: 0.8634 - val_loss: 2.4995 - val_accuracy: 0.4183\n",
      "Epoch 36/100\n",
      "86/86 [==============================] - 84s 980ms/step - loss: 0.3645 - accuracy: 0.8704 - val_loss: 2.6220 - val_accuracy: 0.4085\n",
      "Epoch 37/100\n",
      "86/86 [==============================] - 85s 983ms/step - loss: 0.2988 - accuracy: 0.9075 - val_loss: 2.6325 - val_accuracy: 0.3954\n",
      "Epoch 38/100\n",
      "86/86 [==============================] - 85s 986ms/step - loss: 0.2783 - accuracy: 0.9071 - val_loss: 2.5957 - val_accuracy: 0.4183\n",
      "Epoch 39/100\n",
      "86/86 [==============================] - 85s 986ms/step - loss: 0.2818 - accuracy: 0.8995 - val_loss: 2.6428 - val_accuracy: 0.4379\n",
      "Epoch 40/100\n",
      "86/86 [==============================] - 85s 983ms/step - loss: 0.2627 - accuracy: 0.9148 - val_loss: 2.6048 - val_accuracy: 0.4281\n",
      "Epoch 41/100\n",
      "86/86 [==============================] - 84s 983ms/step - loss: 0.2370 - accuracy: 0.9213 - val_loss: 2.4543 - val_accuracy: 0.4412\n",
      "Epoch 42/100\n",
      "86/86 [==============================] - 84s 979ms/step - loss: 0.1613 - accuracy: 0.9476 - val_loss: 2.9240 - val_accuracy: 0.3954\n",
      "Epoch 43/100\n",
      "86/86 [==============================] - 85s 986ms/step - loss: 0.2443 - accuracy: 0.9192 - val_loss: 2.7512 - val_accuracy: 0.4346\n",
      "Epoch 44/100\n",
      "86/86 [==============================] - 84s 981ms/step - loss: 0.2275 - accuracy: 0.9246 - val_loss: 2.7442 - val_accuracy: 0.4444\n",
      "Epoch 45/100\n",
      "86/86 [==============================] - 85s 984ms/step - loss: 0.1830 - accuracy: 0.9436 - val_loss: 2.7731 - val_accuracy: 0.4085\n",
      "Epoch 46/100\n",
      "86/86 [==============================] - ETA: 0s - loss: 0.1693 - accuracy: 0.9450Restoring model weights from the end of the best epoch: 31.\n",
      "86/86 [==============================] - 84s 983ms/step - loss: 0.1693 - accuracy: 0.9450 - val_loss: 2.8473 - val_accuracy: 0.4346\n",
      "Epoch 46: early stopping\n"
     ]
    }
   ],
   "source": [
    "early_stopping = tf.keras.callbacks.EarlyStopping(monitor='val_accuracy',\n",
    "                                                  patience=15,\n",
    "                                                  mode='max',\n",
    "                                                  verbose=1,\n",
    "                                                  restore_best_weights=True)\n",
    "\n",
    "\n",
    "### INSPIRACJA https://www.analyticsvidhya.com/blog/2021/11/facial-emotion-detection-using-cnn/\n",
    "model = Sequential()\n",
    "\n",
    "model.add(Conv2D(64, (3,3), activation='relu', padding='same', input_shape=(48, 48, 1)))\n",
    "model.add(BatchNormalization())\n",
    "model.add(Conv2D(64, (3,3), activation='relu', padding='same'))\n",
    "model.add(BatchNormalization())\n",
    "model.add(MaxPooling2D((2,2)))\n",
    "model.add(Dropout(0.3))\n",
    "\n",
    "model.add(Conv2D(128, (3,3), activation='relu', padding='same'))\n",
    "model.add(BatchNormalization())\n",
    "model.add(Conv2D(128, (3,3), activation='relu', padding='same'))\n",
    "model.add(BatchNormalization())\n",
    "model.add(Conv2D(128, (3,3), activation='relu', padding='same'))\n",
    "model.add(BatchNormalization())\n",
    "model.add(MaxPooling2D((2,2)))\n",
    "model.add(Dropout(0.3))\n",
    "\n",
    "model.add(Conv2D(256, (3,3), activation='relu', padding='same'))\n",
    "model.add(BatchNormalization())\n",
    "model.add(Conv2D(256, (3,3), activation='relu', padding='same'))\n",
    "model.add(BatchNormalization())\n",
    "model.add(Conv2D(256, (3,3), activation='relu', padding='same'))\n",
    "model.add(BatchNormalization())\n",
    "model.add(Conv2D(256, (3,3), activation='relu', padding='same'))\n",
    "model.add(BatchNormalization())\n",
    "model.add(MaxPooling2D((2,2)))\n",
    "model.add(Dropout(0.3))\n",
    "\n",
    "model.add(Conv2D(256, (3,3), activation='relu', padding='same'))\n",
    "model.add(BatchNormalization())\n",
    "model.add(Conv2D(256, (3,3), activation='relu', padding='same'))\n",
    "model.add(BatchNormalization())\n",
    "model.add(Conv2D(256, (3,3), activation='relu', padding='same'))\n",
    "model.add(BatchNormalization())\n",
    "model.add(Conv2D(256, (3,3), activation='relu', padding='same'))\n",
    "model.add(BatchNormalization())\n",
    "model.add(MaxPooling2D((2,2)))\n",
    "model.add(Dropout(0.3))\n",
    "\n",
    "model.add(Conv2D(512, (3,3), activation='relu', padding='same'))\n",
    "model.add(BatchNormalization())\n",
    "model.add(Conv2D(512, (3,3), activation='relu', padding='same'))\n",
    "model.add(BatchNormalization())\n",
    "model.add(Conv2D(512, (3,3), activation='relu', padding='same'))\n",
    "model.add(BatchNormalization())\n",
    "model.add(Conv2D(512, (3,3), activation='relu', padding='same'))\n",
    "model.add(BatchNormalization())\n",
    "model.add(MaxPooling2D((2,2)))\n",
    "model.add(Dropout(0.3))\n",
    "\n",
    "model.add(Flatten())\n",
    "\n",
    "#mozna jeszcze dodać taki fragment np jakby był sredni wynik\n",
    "# model.add(Dense(512, activation='relu'))\n",
    "# model.add(Dense(256, activation='relu'))\n",
    "# model.add(Dense(128, activation='relu'))\n",
    "# model.add(Dense(128, activation='relu'))\n",
    "# model.add(Dropout(0.1))\n",
    "model.add(Dense(7, activation='softmax'))\n",
    "\n",
    "model.compile(optimizer='adam', loss='categorical_crossentropy', metrics=['accuracy'])\n",
    "model.summary()\n",
    "\n",
    "history = model.fit(train_image, train_emotion_onehot, batch_size=32,\n",
    "                    epochs = 100, validation_split = 0.1,\n",
    "                    callbacks = [early_stopping])\n"
   ]
  },
  {
   "cell_type": "code",
   "execution_count": 87,
   "metadata": {
    "collapsed": false
   },
   "outputs": [
    {
     "name": "stderr",
     "output_type": "stream",
     "text": [
      "WARNING:absl:Found untraced functions such as _jit_compiled_convolution_op, _jit_compiled_convolution_op, _jit_compiled_convolution_op, _jit_compiled_convolution_op, _jit_compiled_convolution_op while saving (showing 5 of 17). These functions will not be directly callable after loading.\n"
     ]
    },
    {
     "name": "stdout",
     "output_type": "stream",
     "text": [
      "INFO:tensorflow:Assets written to: models/model1_CNN\\assets\n"
     ]
    },
    {
     "name": "stderr",
     "output_type": "stream",
     "text": [
      "INFO:tensorflow:Assets written to: models/model1_CNN\\assets\n"
     ]
    }
   ],
   "source": [
    "model_dir = \"models/model1_CNN\"\n",
    "model.save(model_dir)\n",
    "with open(\"history/model1_CNN.json\", \"w\") as json_file:\n",
    "    json.dump(history.history, json_file)"
   ]
  },
  {
   "cell_type": "code",
   "execution_count": null,
   "outputs": [],
   "source": [
    "# with open(\"history/model1_CNN.json\", \"r\") as json_file:\n",
    "#     history = json.load(json_file)"
   ],
   "metadata": {
    "collapsed": false
   }
  },
  {
   "cell_type": "code",
   "execution_count": 88,
   "outputs": [
    {
     "data": {
      "text/plain": "<Figure size 640x480 with 1 Axes>",
      "image/png": "[encoded data removed]"
     },
     "metadata": {},
     "output_type": "display_data"
    }
   ],
   "source": [
    "plt.plot(history.history['accuracy'])\n",
    "plt.plot(history.history['val_accuracy'])\n",
    "plt.title('model accuracy')\n",
    "plt.ylabel('accuracy')\n",
    "plt.xlabel('epoch')\n",
    "plt.legend(['train', 'test'], loc='upper left')\n",
    "plt.show()"
   ],
   "metadata": {
    "collapsed": false
   }
  },
  {
   "cell_type": "code",
   "execution_count": 89,
   "id": "0aa87ffa-56e2-499a-a907-e0e3dab7a59f",
   "metadata": {},
   "outputs": [],
   "source": [
    "# filename = \"models/model1_CNN\"\n",
    "# model = load_model(filename)\n",
    "prediction = model.predict(x = test_image, batch_size = 10, verbose = 0)"
   ]
  },
  {
   "cell_type": "code",
   "execution_count": 90,
   "id": "32d0b162-aeb3-45a3-8842-ffb54240c5d7",
   "metadata": {},
   "outputs": [
    {
     "name": "stdout",
     "output_type": "stream",
     "text": [
      "Accuracy:0.5611325611325612\n"
     ]
    }
   ],
   "source": [
    "predicted_labels = np.argmax(prediction, axis=1)\n",
    "label_map = {0: 'angry', 1: 'disgust', 2: 'fear', 3: 'happy', 4: 'neutral', 5: 'sad', 6: 'surprise'}\n",
    "true_labels = np.argmax(test_emotion_onehot, axis=1)\n",
    "num_of_wrong_predictions = 0\n",
    "\n",
    "invalid_prediction = []\n",
    "invalid_prediction_emotion = []\n",
    "invalid_emotion = []\n",
    "\n",
    "for i in range(len(test_emotion)):\n",
    "    if label_map[true_labels[i]] != label_map[predicted_labels[i]]:\n",
    "        invalid_prediction.append(test_image[i])\n",
    "        invalid_prediction_emotion.append(prediction[i])\n",
    "        invalid_emotion.append(test_emotion[i])\n",
    "\n",
    "\n",
    "print(f\"Accuracy:{len(invalid_emotion)/len(test_emotion)}\")\n",
    "\n",
    "invalid_prediction = np.array(invalid_prediction)\n",
    "invalid_prediction_emotion = np.array(invalid_prediction_emotion)\n",
    "invalid_emotion = np.array(invalid_emotion)"
   ]
  },
  {
   "cell_type": "code",
   "execution_count": 91,
   "metadata": {
    "collapsed": false
   },
   "outputs": [
    {
     "data": {
      "text/plain": "<Figure size 640x480 with 1 Axes>",
      "image/png": "[encoded data removed]"
     },
     "metadata": {},
     "output_type": "display_data"
    }
   ],
   "source": [
    "import matplotlib.pyplot as plt\n",
    "\n",
    "wrong_predictions_per_emotion = {'angry': 0, 'disgust': 0, 'fear': 0, 'happy': 0, 'neutral': 0, 'sad': 0, 'surprise': 0}\n",
    "\n",
    "for i in range(len(invalid_emotion)):\n",
    "    true_label = label_map[true_labels[i]]\n",
    "    predicted_label = label_map[predicted_labels[i]]\n",
    "    if true_label != predicted_label:\n",
    "        wrong_predictions_per_emotion[true_label] += 1\n",
    "\n",
    "plt.bar(wrong_predictions_per_emotion.keys(), wrong_predictions_per_emotion.values())\n",
    "plt.xlabel('Emotion')\n",
    "plt.ylabel('Number of wrong predictions')\n",
    "plt.show()"
   ]
  },
  {
   "cell_type": "code",
   "execution_count": 92,
   "metadata": {
    "collapsed": false
   },
   "outputs": [
    {
     "data": {
      "text/plain": "<Figure size 640x480 with 1 Axes>",
      "image/png": "[encoded data removed]"
     },
     "metadata": {},
     "output_type": "display_data"
    }
   ],
   "source": [
    "import matplotlib.pyplot as plt\n",
    "\n",
    "wrong_predictions_per_emotion = {'angry': 0, 'disgust': 0, 'fear': 0, 'happy': 0, 'neutral': 0, 'sad': 0, 'surprise': 0}\n",
    "test_cases_per_emotion = {'angry': 0, 'disgust': 0, 'fear': 0, 'happy': 0, 'neutral': 0, 'sad': 0, 'surprise': 0}\n",
    "ratio_of_wrong_predictions = {'angry': 0, 'disgust': 0, 'fear': 0, 'happy': 0, 'neutral': 0, 'sad': 0, 'surprise': 0}\n",
    "\n",
    "for i in range(len(invalid_emotion)):\n",
    "    true_label = label_map[true_labels[i]]\n",
    "    predicted_label = label_map[predicted_labels[i]]\n",
    "    test_cases_per_emotion[true_label] += 1\n",
    "    if true_label != predicted_label:\n",
    "        wrong_predictions_per_emotion[true_label] += 1\n",
    "\n",
    "for emotion in emotions:\n",
    "    ratio_of_wrong_predictions[emotion] = wrong_predictions_per_emotion[emotion] / test_cases_per_emotion[emotion]\n",
    "\n",
    "plt.bar(ratio_of_wrong_predictions.keys(), ratio_of_wrong_predictions.values())\n",
    "plt.xlabel('Emotion')\n",
    "plt.ylabel('Ratio of wrong predictions')\n",
    "plt.show()"
   ]
  }
 ],
 "metadata": {
  "kernelspec": {
   "display_name": "Python 3 (ipykernel)",
   "language": "python",
   "name": "python3"
  },
  "language_info": {
   "codemirror_mode": {
    "name": "ipython",
    "version": 3
   },
   "file_extension": ".py",
   "mimetype": "text/x-python",
   "name": "python",
   "nbconvert_exporter": "python",
   "pygments_lexer": "ipython3",
   "version": "3.9.13"
  }
 },
 "nbformat": 4,
 "nbformat_minor": 5
}
