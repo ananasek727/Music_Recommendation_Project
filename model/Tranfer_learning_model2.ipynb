{
 "cells": [
  {
   "cell_type": "code",
   "execution_count": 6,
   "id": "e7718083-87dc-4917-9384-6bfc130d7c2b",
   "metadata": {},
   "outputs": [],
   "source": [
    "import numpy as np\n",
    "import pandas as pd\n",
    "import cv2\n",
    "import matplotlib.pyplot as plt\n",
    "import pandas as pd\n",
    "import matplotlib.image as mpimg\n",
    "import shutil\n",
    "import random\n",
    "import os\n",
    "import datetime\n",
    "import tensorflow as tf\n",
    "\n",
    "from sklearn.utils import shuffle\n",
    "from PIL import Image\n",
    "from tensorflow.keras import regularizers\n",
    "from tensorflow.keras.layers import GlobalAveragePooling2D, Dense, Dropout, Activation, Flatten, Conv2D, MaxPooling2D, Resizing, Rescaling, RandomFlip, RandomRotation, RandomBrightness, RandomContrast, BatchNormalization\n",
    "from tensorflow.keras.optimizers import Adamax\n",
    "from tensorflow.keras.preprocessing.image import ImageDataGenerator\n",
    "from tensorflow.keras.models import Model, load_model, Sequential\n",
    "from tensorflow.keras.applications import ResNet50\n",
    "from tensorflow.keras.applications.resnet_v2 import preprocess_input\n",
    "from tensorflow.keras.callbacks import EarlyStopping, ReduceLROnPlateau\n",
    "from tensorflow.keras import Input, Model\n",
    "from sklearn.metrics import confusion_matrix, classification_report, ConfusionMatrixDisplay\n",
    "from sklearn.model_selection import train_test_split\n",
    "import json"
   ]
  },
  {
   "cell_type": "code",
   "execution_count": 7,
   "outputs": [
    {
     "name": "stdout",
     "output_type": "stream",
     "text": [
      "train data...\n",
      "angry\n",
      "disgust\n",
      "fear\n",
      "happy\n",
      "neutral\n",
      "sad\n",
      "surprise\n",
      "test data...\n",
      "angry\n",
      "disgust\n",
      "fear\n",
      "happy\n",
      "neutral\n",
      "sad\n",
      "surprise\n"
     ]
    }
   ],
   "source": [
    "path = \"../FER2013_ver2\"\n",
    "emotions = os.listdir(f\"{path}/train\")\n",
    "\n",
    "train_image = []\n",
    "train_emotion = []\n",
    "\n",
    "print(\"train data...\")\n",
    "for emotion in emotions:\n",
    "    image_path = f\"{path}/train/{emotion}\"\n",
    "    files = os.listdir(image_path)\n",
    "    print(emotion)\n",
    "    for file in files:\n",
    "        img = cv2.imread(f\"{image_path}/{file}\")\n",
    "        img = cv2.cvtColor(img, cv2.COLOR_BGR2RGB)\n",
    "        img = cv2.resize(img, (224, 224))\n",
    "        train_image.append(img)\n",
    "        train_emotion.append(emotion)\n",
    "\n",
    "\n",
    "test_image = []\n",
    "test_emotion = []\n",
    "\n",
    "print(\"test data...\")\n",
    "for emotion in emotions:\n",
    "    image_path = f\"{path}/test/{emotion}\"\n",
    "    files = os.listdir(image_path)\n",
    "    print(emotion)\n",
    "    for file in files:\n",
    "        img = cv2.imread(f\"{image_path}/{file}\")\n",
    "        img = cv2.cvtColor(img, cv2.COLOR_BGR2RGB)\n",
    "        img = cv2.resize(img, (224, 224))\n",
    "        test_image.append(img)\n",
    "        test_emotion.append(emotion)\n",
    "\n",
    "\n",
    "train_image = np.array(train_image)\n",
    "train_emotion = np.array(train_emotion)\n",
    "train_image, train_emotion = shuffle(train_image, train_emotion, random_state=0)\n",
    "\n",
    "test_image = np.array(test_image)\n",
    "test_emotion = np.array(test_emotion)\n",
    "test_image, test_emotion = shuffle(test_image, test_emotion, random_state=0)"
   ],
   "metadata": {
    "collapsed": false
   }
  },
  {
   "cell_type": "code",
   "execution_count": 8,
   "outputs": [
    {
     "name": "stdout",
     "output_type": "stream",
     "text": [
      "(224, 224, 3)\n",
      "(3052,)\n",
      "(777, 224, 224, 3)\n",
      "(777,)\n",
      "happy\n"
     ]
    }
   ],
   "source": [
    "print(train_image[5].shape)\n",
    "print(train_emotion.shape)\n",
    "print(test_image.shape)\n",
    "print(test_emotion.shape)\n",
    "print(train_emotion[5])"
   ],
   "metadata": {
    "collapsed": false
   }
  },
  {
   "cell_type": "code",
   "execution_count": 10,
   "outputs": [],
   "source": [
    "label_map = {'angry': 0, 'disgust': 1, 'fear': 2, 'happy': 3, 'neutral': 4, 'sad': 5, 'surprise': 6}\n",
    "train_emotion_int = [label_map[label] for label in train_emotion]\n",
    "train_emotion_int = np.array(train_emotion_int)\n",
    "\n",
    "test_emotion_int = [label_map[label] for label in test_emotion]\n",
    "test_emotion_int = np.array(test_emotion_int)"
   ],
   "metadata": {
    "collapsed": false
   }
  },
  {
   "cell_type": "code",
   "execution_count": 11,
   "outputs": [
    {
     "name": "stdout",
     "output_type": "stream",
     "text": [
      "(3052, 7)\n",
      "(777, 7)\n",
      "[0. 0. 0. 0. 0. 1. 0.]\n"
     ]
    }
   ],
   "source": [
    "from keras.utils import to_categorical\n",
    "train_emotion_onehot = to_categorical(train_emotion_int)\n",
    "test_emotion_onehot = to_categorical(test_emotion_int)\n",
    "print(train_emotion_onehot.shape)\n",
    "print(test_emotion_onehot.shape)\n",
    "print(train_emotion_onehot[4])"
   ],
   "metadata": {
    "collapsed": false
   }
  },
  {
   "cell_type": "code",
   "execution_count": 14,
   "id": "97cf9c4e-3a07-468e-a7e9-0be690d53f88",
   "metadata": {},
   "outputs": [
    {
     "name": "stdout",
     "output_type": "stream",
     "text": [
      "Model: \"model_1\"\n",
      "_________________________________________________________________\n",
      " Layer (type)                Output Shape              Param #   \n",
      "=================================================================\n",
      " input_4 (InputLayer)        [(None, 224, 224, 3)]     0         \n",
      "                                                                 \n",
      " sequential_1 (Sequential)   (None, 224, 224, 3)       0         \n",
      "                                                                 \n",
      " MobilenetV3large (Functiona  (None, 7, 7, 960)        2996352   \n",
      " l)                                                              \n",
      "                                                                 \n",
      " global_average_pooling2d_1   (None, 960)              0         \n",
      " (GlobalAveragePooling2D)                                        \n",
      "                                                                 \n",
      " batch_normalization_3 (Batc  (None, 960)              3840      \n",
      " hNormalization)                                                 \n",
      "                                                                 \n",
      " dense_4 (Dense)             (None, 256)               246016    \n",
      "                                                                 \n",
      " dropout_3 (Dropout)         (None, 256)               0         \n",
      "                                                                 \n",
      " batch_normalization_4 (Batc  (None, 256)              1024      \n",
      " hNormalization)                                                 \n",
      "                                                                 \n",
      " dense_5 (Dense)             (None, 128)               32896     \n",
      "                                                                 \n",
      " dropout_4 (Dropout)         (None, 128)               0         \n",
      "                                                                 \n",
      " batch_normalization_5 (Batc  (None, 128)              512       \n",
      " hNormalization)                                                 \n",
      "                                                                 \n",
      " dense_6 (Dense)             (None, 64)                8256      \n",
      "                                                                 \n",
      " dropout_5 (Dropout)         (None, 64)                0         \n",
      "                                                                 \n",
      " dense_7 (Dense)             (None, 7)                 455       \n",
      "                                                                 \n",
      "=================================================================\n",
      "Total params: 3,289,351\n",
      "Trainable params: 290,311\n",
      "Non-trainable params: 2,999,040\n",
      "_________________________________________________________________\n",
      "Epoch 1/100\n",
      "WARNING:tensorflow:Using a while_loop for converting RngReadAndSkip cause there is no registered converter for this op.\n",
      "WARNING:tensorflow:Using a while_loop for converting Bitcast cause there is no registered converter for this op.\n",
      "WARNING:tensorflow:Using a while_loop for converting Bitcast cause there is no registered converter for this op.\n",
      "WARNING:tensorflow:Using a while_loop for converting StatelessRandomUniformV2 cause there is no registered converter for this op.\n",
      "WARNING:tensorflow:Using a while_loop for converting ImageProjectiveTransformV3 cause there is no registered converter for this op.\n",
      "WARNING:tensorflow:Using a while_loop for converting RngReadAndSkip cause there is no registered converter for this op.\n",
      "WARNING:tensorflow:Using a while_loop for converting Bitcast cause there is no registered converter for this op.\n",
      "WARNING:tensorflow:Using a while_loop for converting Bitcast cause there is no registered converter for this op.\n",
      "WARNING:tensorflow:Using a while_loop for converting StatelessRandomUniformV2 cause there is no registered converter for this op.\n",
      "WARNING:tensorflow:Using a while_loop for converting ImageProjectiveTransformV3 cause there is no registered converter for this op.\n",
      "86/86 [==============================] - 54s 585ms/step - loss: 2.0487 - accuracy: 0.2127 - val_loss: 1.8275 - val_accuracy: 0.2810\n",
      "Epoch 2/100\n",
      "86/86 [==============================] - 49s 564ms/step - loss: 1.8039 - accuracy: 0.3103 - val_loss: 1.7792 - val_accuracy: 0.2745\n",
      "Epoch 3/100\n",
      "86/86 [==============================] - 49s 576ms/step - loss: 1.6915 - accuracy: 0.3576 - val_loss: 1.7083 - val_accuracy: 0.3529\n",
      "Epoch 4/100\n",
      "86/86 [==============================] - 50s 577ms/step - loss: 1.6437 - accuracy: 0.3649 - val_loss: 1.6763 - val_accuracy: 0.3693\n",
      "Epoch 5/100\n",
      "86/86 [==============================] - 52s 605ms/step - loss: 1.5601 - accuracy: 0.3984 - val_loss: 1.6681 - val_accuracy: 0.3954\n",
      "Epoch 6/100\n",
      "86/86 [==============================] - 53s 617ms/step - loss: 1.4884 - accuracy: 0.4337 - val_loss: 1.6778 - val_accuracy: 0.3758\n",
      "Epoch 7/100\n",
      "86/86 [==============================] - 49s 573ms/step - loss: 1.4861 - accuracy: 0.4330 - val_loss: 1.6873 - val_accuracy: 0.3889\n",
      "Epoch 8/100\n",
      "86/86 [==============================] - 48s 554ms/step - loss: 1.4425 - accuracy: 0.4625 - val_loss: 1.6602 - val_accuracy: 0.4020\n",
      "Epoch 9/100\n",
      "86/86 [==============================] - 48s 559ms/step - loss: 1.3990 - accuracy: 0.4731 - val_loss: 1.7103 - val_accuracy: 0.3889\n",
      "Epoch 10/100\n",
      "86/86 [==============================] - 48s 556ms/step - loss: 1.3658 - accuracy: 0.4913 - val_loss: 1.6652 - val_accuracy: 0.3987\n",
      "Epoch 11/100\n",
      "86/86 [==============================] - 48s 554ms/step - loss: 1.3236 - accuracy: 0.5127 - val_loss: 1.6738 - val_accuracy: 0.3922\n",
      "Epoch 12/100\n",
      "86/86 [==============================] - 48s 555ms/step - loss: 1.3043 - accuracy: 0.5168 - val_loss: 1.7124 - val_accuracy: 0.3529\n",
      "Epoch 13/100\n",
      "86/86 [==============================] - 48s 556ms/step - loss: 1.2803 - accuracy: 0.5240 - val_loss: 1.6532 - val_accuracy: 0.3889\n",
      "Epoch 14/100\n",
      "86/86 [==============================] - 48s 555ms/step - loss: 1.2576 - accuracy: 0.5342 - val_loss: 1.6868 - val_accuracy: 0.4150\n",
      "Epoch 15/100\n",
      "86/86 [==============================] - 48s 556ms/step - loss: 1.2440 - accuracy: 0.5386 - val_loss: 1.6851 - val_accuracy: 0.4020\n",
      "Epoch 16/100\n",
      "86/86 [==============================] - 48s 556ms/step - loss: 1.2246 - accuracy: 0.5441 - val_loss: 1.7403 - val_accuracy: 0.4020\n",
      "Epoch 17/100\n",
      "86/86 [==============================] - 48s 564ms/step - loss: 1.1996 - accuracy: 0.5535 - val_loss: 1.7086 - val_accuracy: 0.4052\n",
      "Epoch 18/100\n",
      "86/86 [==============================] - 48s 558ms/step - loss: 1.1794 - accuracy: 0.5674 - val_loss: 1.6420 - val_accuracy: 0.4150\n",
      "Epoch 19/100\n",
      "86/86 [==============================] - 48s 557ms/step - loss: 1.1230 - accuracy: 0.5947 - val_loss: 1.7594 - val_accuracy: 0.3987\n",
      "Epoch 20/100\n",
      "86/86 [==============================] - 48s 557ms/step - loss: 1.1316 - accuracy: 0.5859 - val_loss: 1.7660 - val_accuracy: 0.3856\n",
      "Epoch 21/100\n",
      "86/86 [==============================] - 48s 558ms/step - loss: 1.0927 - accuracy: 0.5983 - val_loss: 1.7489 - val_accuracy: 0.4314\n",
      "Epoch 22/100\n",
      "86/86 [==============================] - 48s 558ms/step - loss: 1.0980 - accuracy: 0.5947 - val_loss: 1.7540 - val_accuracy: 0.4150\n",
      "Epoch 23/100\n",
      "86/86 [==============================] - 48s 557ms/step - loss: 1.0915 - accuracy: 0.6031 - val_loss: 1.7526 - val_accuracy: 0.4248\n",
      "Epoch 24/100\n",
      "86/86 [==============================] - 48s 554ms/step - loss: 1.0594 - accuracy: 0.6169 - val_loss: 1.7343 - val_accuracy: 0.3824\n",
      "Epoch 25/100\n",
      "86/86 [==============================] - 48s 553ms/step - loss: 1.0244 - accuracy: 0.6387 - val_loss: 1.7474 - val_accuracy: 0.3954\n",
      "Epoch 26/100\n",
      "86/86 [==============================] - 48s 554ms/step - loss: 1.0351 - accuracy: 0.6227 - val_loss: 1.8210 - val_accuracy: 0.4183\n",
      "Epoch 27/100\n",
      "86/86 [==============================] - 48s 554ms/step - loss: 0.9999 - accuracy: 0.6326 - val_loss: 1.8161 - val_accuracy: 0.4085\n",
      "Epoch 28/100\n",
      "86/86 [==============================] - 48s 556ms/step - loss: 1.0070 - accuracy: 0.6428 - val_loss: 1.7339 - val_accuracy: 0.4412\n",
      "Epoch 29/100\n",
      "86/86 [==============================] - 49s 572ms/step - loss: 0.9861 - accuracy: 0.6479 - val_loss: 1.7695 - val_accuracy: 0.4216\n",
      "Epoch 30/100\n",
      "86/86 [==============================] - 48s 563ms/step - loss: 0.9533 - accuracy: 0.6555 - val_loss: 1.7878 - val_accuracy: 0.4346\n",
      "Epoch 31/100\n",
      "86/86 [==============================] - 50s 584ms/step - loss: 0.9878 - accuracy: 0.6413 - val_loss: 1.8212 - val_accuracy: 0.4052\n",
      "Epoch 32/100\n",
      "86/86 [==============================] - 50s 584ms/step - loss: 0.9371 - accuracy: 0.6591 - val_loss: 1.8845 - val_accuracy: 0.4118\n",
      "Epoch 33/100\n",
      "86/86 [==============================] - 50s 587ms/step - loss: 0.9401 - accuracy: 0.6584 - val_loss: 1.9117 - val_accuracy: 0.4085\n",
      "Epoch 34/100\n",
      "86/86 [==============================] - 49s 569ms/step - loss: 0.8848 - accuracy: 0.6792 - val_loss: 1.8884 - val_accuracy: 0.4248\n",
      "Epoch 35/100\n",
      "86/86 [==============================] - 48s 555ms/step - loss: 0.9229 - accuracy: 0.6668 - val_loss: 1.8777 - val_accuracy: 0.4118\n",
      "Epoch 36/100\n",
      "86/86 [==============================] - 48s 556ms/step - loss: 0.8965 - accuracy: 0.6792 - val_loss: 1.9358 - val_accuracy: 0.4183\n",
      "Epoch 37/100\n",
      "86/86 [==============================] - 49s 576ms/step - loss: 0.8714 - accuracy: 0.6948 - val_loss: 2.0345 - val_accuracy: 0.4346\n",
      "Epoch 38/100\n",
      "86/86 [==============================] - 48s 561ms/step - loss: 0.8399 - accuracy: 0.6988 - val_loss: 1.9810 - val_accuracy: 0.4248\n",
      "Epoch 39/100\n",
      "86/86 [==============================] - 48s 558ms/step - loss: 0.8447 - accuracy: 0.6919 - val_loss: 1.8563 - val_accuracy: 0.4216\n",
      "Epoch 40/100\n",
      "86/86 [==============================] - 48s 556ms/step - loss: 0.8584 - accuracy: 0.6868 - val_loss: 1.7870 - val_accuracy: 0.4150\n",
      "Epoch 41/100\n",
      "86/86 [==============================] - 48s 556ms/step - loss: 0.8110 - accuracy: 0.7109 - val_loss: 1.8855 - val_accuracy: 0.4052\n",
      "Epoch 42/100\n",
      "86/86 [==============================] - 48s 563ms/step - loss: 0.8217 - accuracy: 0.7014 - val_loss: 1.9007 - val_accuracy: 0.4118\n",
      "Epoch 43/100\n",
      "86/86 [==============================] - ETA: 0s - loss: 0.8169 - accuracy: 0.7087Restoring model weights from the end of the best epoch: 28.\n",
      "86/86 [==============================] - 48s 562ms/step - loss: 0.8169 - accuracy: 0.7087 - val_loss: 1.9338 - val_accuracy: 0.4118\n",
      "Epoch 43: early stopping\n"
     ]
    }
   ],
   "source": [
    "from tensorflow.keras.applications import MobileNetV3Small, MobileNetV3Large\n",
    "\n",
    "early_stopping = tf.keras.callbacks.EarlyStopping(monitor='val_accuracy',\n",
    "                                                  patience=15,\n",
    "                                                  mode='max',\n",
    "                                                  verbose=1,\n",
    "                                                  restore_best_weights=True)\n",
    "\n",
    "\n",
    "\n",
    "#preprocessing layers\n",
    "data_augmentation = tf.keras.Sequential([\n",
    "    tf.keras.layers.RandomFlip('horizontal'),\n",
    "    tf.keras.layers.RandomRotation(0.2),\n",
    "])\n",
    "\n",
    "    \n",
    "base_model = MobileNetV3Large(\n",
    "    weights='imagenet',  # Load weights pre-trained on ImageNet.\n",
    "    input_shape=(224, 224, 3),\n",
    "    include_top=False)  \n",
    "base_model.trainable = False\n",
    "\n",
    "#preprocessing layers + augmentations\n",
    "inputs = Input(shape=(224, 224, 3))\n",
    "x = data_augmentation(inputs)\n",
    "\n",
    "x = base_model(x, training=False)\n",
    "x = GlobalAveragePooling2D()(x)\n",
    "x = BatchNormalization()(x)\n",
    "x = Dense(256, activation='relu')(x)\n",
    "x = Dropout(0.1)(x)\n",
    "x = BatchNormalization()(x)\n",
    "x = Dense(128, activation='relu')(x)\n",
    "x = Dropout(0.1)(x)\n",
    "x = BatchNormalization()(x)\n",
    "x = Dense(64, activation='relu')(x)\n",
    "x = Dropout(0.1)(x)\n",
    "outputs = Dense(7, activation='softmax')(x)\n",
    "\n",
    "model = Model(inputs, outputs)\n",
    "model.compile(optimizer='adam', loss='categorical_crossentropy', metrics=['accuracy'])\n",
    "model.summary()\n",
    "\n",
    "history = model.fit(train_image, train_emotion_onehot, batch_size=32,\n",
    "                    epochs = 100, validation_split = 0.1,\n",
    "                    callbacks = [early_stopping])\n"
   ]
  },
  {
   "cell_type": "code",
   "execution_count": 24,
   "outputs": [
    {
     "name": "stdout",
     "output_type": "stream",
     "text": [
      "WARNING:tensorflow:Using a while_loop for converting RngReadAndSkip cause there is no registered converter for this op.\n"
     ]
    },
    {
     "name": "stderr",
     "output_type": "stream",
     "text": [
      "WARNING:tensorflow:Using a while_loop for converting RngReadAndSkip cause there is no registered converter for this op.\n"
     ]
    },
    {
     "name": "stdout",
     "output_type": "stream",
     "text": [
      "WARNING:tensorflow:Using a while_loop for converting Bitcast cause there is no registered converter for this op.\n"
     ]
    },
    {
     "name": "stderr",
     "output_type": "stream",
     "text": [
      "WARNING:tensorflow:Using a while_loop for converting Bitcast cause there is no registered converter for this op.\n"
     ]
    },
    {
     "name": "stdout",
     "output_type": "stream",
     "text": [
      "WARNING:tensorflow:Using a while_loop for converting Bitcast cause there is no registered converter for this op.\n"
     ]
    },
    {
     "name": "stderr",
     "output_type": "stream",
     "text": [
      "WARNING:tensorflow:Using a while_loop for converting Bitcast cause there is no registered converter for this op.\n"
     ]
    },
    {
     "name": "stdout",
     "output_type": "stream",
     "text": [
      "WARNING:tensorflow:Using a while_loop for converting StatelessRandomUniformV2 cause there is no registered converter for this op.\n"
     ]
    },
    {
     "name": "stderr",
     "output_type": "stream",
     "text": [
      "WARNING:tensorflow:Using a while_loop for converting StatelessRandomUniformV2 cause there is no registered converter for this op.\n"
     ]
    },
    {
     "name": "stdout",
     "output_type": "stream",
     "text": [
      "WARNING:tensorflow:Using a while_loop for converting ImageProjectiveTransformV3 cause there is no registered converter for this op.\n"
     ]
    },
    {
     "name": "stderr",
     "output_type": "stream",
     "text": [
      "WARNING:tensorflow:Using a while_loop for converting ImageProjectiveTransformV3 cause there is no registered converter for this op.\n"
     ]
    },
    {
     "name": "stdout",
     "output_type": "stream",
     "text": [
      "WARNING:tensorflow:Using a while_loop for converting RngReadAndSkip cause there is no registered converter for this op.\n"
     ]
    },
    {
     "name": "stderr",
     "output_type": "stream",
     "text": [
      "WARNING:tensorflow:Using a while_loop for converting RngReadAndSkip cause there is no registered converter for this op.\n"
     ]
    },
    {
     "name": "stdout",
     "output_type": "stream",
     "text": [
      "WARNING:tensorflow:Using a while_loop for converting Bitcast cause there is no registered converter for this op.\n"
     ]
    },
    {
     "name": "stderr",
     "output_type": "stream",
     "text": [
      "WARNING:tensorflow:Using a while_loop for converting Bitcast cause there is no registered converter for this op.\n"
     ]
    },
    {
     "name": "stdout",
     "output_type": "stream",
     "text": [
      "WARNING:tensorflow:Using a while_loop for converting Bitcast cause there is no registered converter for this op.\n"
     ]
    },
    {
     "name": "stderr",
     "output_type": "stream",
     "text": [
      "WARNING:tensorflow:Using a while_loop for converting Bitcast cause there is no registered converter for this op.\n"
     ]
    },
    {
     "name": "stdout",
     "output_type": "stream",
     "text": [
      "WARNING:tensorflow:Using a while_loop for converting StatelessRandomUniformV2 cause there is no registered converter for this op.\n"
     ]
    },
    {
     "name": "stderr",
     "output_type": "stream",
     "text": [
      "WARNING:tensorflow:Using a while_loop for converting StatelessRandomUniformV2 cause there is no registered converter for this op.\n"
     ]
    },
    {
     "name": "stdout",
     "output_type": "stream",
     "text": [
      "WARNING:tensorflow:Using a while_loop for converting ImageProjectiveTransformV3 cause there is no registered converter for this op.\n"
     ]
    },
    {
     "name": "stderr",
     "output_type": "stream",
     "text": [
      "WARNING:tensorflow:Using a while_loop for converting ImageProjectiveTransformV3 cause there is no registered converter for this op.\n"
     ]
    },
    {
     "name": "stdout",
     "output_type": "stream",
     "text": [
      "WARNING:tensorflow:Using a while_loop for converting RngReadAndSkip cause there is no registered converter for this op.\n"
     ]
    },
    {
     "name": "stderr",
     "output_type": "stream",
     "text": [
      "WARNING:tensorflow:Using a while_loop for converting RngReadAndSkip cause there is no registered converter for this op.\n"
     ]
    },
    {
     "name": "stdout",
     "output_type": "stream",
     "text": [
      "WARNING:tensorflow:Using a while_loop for converting Bitcast cause there is no registered converter for this op.\n"
     ]
    },
    {
     "name": "stderr",
     "output_type": "stream",
     "text": [
      "WARNING:tensorflow:Using a while_loop for converting Bitcast cause there is no registered converter for this op.\n"
     ]
    },
    {
     "name": "stdout",
     "output_type": "stream",
     "text": [
      "WARNING:tensorflow:Using a while_loop for converting Bitcast cause there is no registered converter for this op.\n"
     ]
    },
    {
     "name": "stderr",
     "output_type": "stream",
     "text": [
      "WARNING:tensorflow:Using a while_loop for converting Bitcast cause there is no registered converter for this op.\n"
     ]
    },
    {
     "name": "stdout",
     "output_type": "stream",
     "text": [
      "WARNING:tensorflow:Using a while_loop for converting StatelessRandomUniformV2 cause there is no registered converter for this op.\n"
     ]
    },
    {
     "name": "stderr",
     "output_type": "stream",
     "text": [
      "WARNING:tensorflow:Using a while_loop for converting StatelessRandomUniformV2 cause there is no registered converter for this op.\n"
     ]
    },
    {
     "name": "stdout",
     "output_type": "stream",
     "text": [
      "WARNING:tensorflow:Using a while_loop for converting ImageProjectiveTransformV3 cause there is no registered converter for this op.\n"
     ]
    },
    {
     "name": "stderr",
     "output_type": "stream",
     "text": [
      "WARNING:tensorflow:Using a while_loop for converting ImageProjectiveTransformV3 cause there is no registered converter for this op.\n"
     ]
    },
    {
     "name": "stdout",
     "output_type": "stream",
     "text": [
      "WARNING:tensorflow:Using a while_loop for converting RngReadAndSkip cause there is no registered converter for this op.\n"
     ]
    },
    {
     "name": "stderr",
     "output_type": "stream",
     "text": [
      "WARNING:tensorflow:Using a while_loop for converting RngReadAndSkip cause there is no registered converter for this op.\n"
     ]
    },
    {
     "name": "stdout",
     "output_type": "stream",
     "text": [
      "WARNING:tensorflow:Using a while_loop for converting Bitcast cause there is no registered converter for this op.\n"
     ]
    },
    {
     "name": "stderr",
     "output_type": "stream",
     "text": [
      "WARNING:tensorflow:Using a while_loop for converting Bitcast cause there is no registered converter for this op.\n"
     ]
    },
    {
     "name": "stdout",
     "output_type": "stream",
     "text": [
      "WARNING:tensorflow:Using a while_loop for converting Bitcast cause there is no registered converter for this op.\n"
     ]
    },
    {
     "name": "stderr",
     "output_type": "stream",
     "text": [
      "WARNING:tensorflow:Using a while_loop for converting Bitcast cause there is no registered converter for this op.\n"
     ]
    },
    {
     "name": "stdout",
     "output_type": "stream",
     "text": [
      "WARNING:tensorflow:Using a while_loop for converting StatelessRandomUniformV2 cause there is no registered converter for this op.\n"
     ]
    },
    {
     "name": "stderr",
     "output_type": "stream",
     "text": [
      "WARNING:tensorflow:Using a while_loop for converting StatelessRandomUniformV2 cause there is no registered converter for this op.\n"
     ]
    },
    {
     "name": "stdout",
     "output_type": "stream",
     "text": [
      "WARNING:tensorflow:Using a while_loop for converting ImageProjectiveTransformV3 cause there is no registered converter for this op.\n"
     ]
    },
    {
     "name": "stderr",
     "output_type": "stream",
     "text": [
      "WARNING:tensorflow:Using a while_loop for converting ImageProjectiveTransformV3 cause there is no registered converter for this op.\n",
      "WARNING:absl:Found untraced functions such as _jit_compiled_convolution_op, _jit_compiled_convolution_op, _jit_compiled_convolution_op, _jit_compiled_convolution_op, _jit_compiled_convolution_op while saving (showing 5 of 62). These functions will not be directly callable after loading.\n"
     ]
    },
    {
     "name": "stdout",
     "output_type": "stream",
     "text": [
      "INFO:tensorflow:Assets written to: models/model2_MobileNetV3Large\\assets\n"
     ]
    },
    {
     "name": "stderr",
     "output_type": "stream",
     "text": [
      "INFO:tensorflow:Assets written to: models/model2_MobileNetV3Large\\assets\n"
     ]
    }
   ],
   "source": [
    "model_dir = \"models/model2_MobileNetV3Large\"\n",
    "model.save(model_dir)\n",
    "with open(\"history/model2_MobileNetV3Large.json\", \"w\") as json_file:\n",
    "    json.dump(history.history, json_file)"
   ],
   "metadata": {
    "collapsed": false
   }
  },
  {
   "cell_type": "code",
   "execution_count": null,
   "outputs": [],
   "source": [
    "# with open(\"history/model2_MobileNetV3Large.json\", \"r\") as json_file:\n",
    "#     history = json.load(json_file)"
   ],
   "metadata": {
    "collapsed": false
   }
  },
  {
   "cell_type": "code",
   "execution_count": 25,
   "outputs": [
    {
     "data": {
      "text/plain": "<Figure size 640x480 with 1 Axes>",
      "image/png": "[encoded data removed]"
     },
     "metadata": {},
     "output_type": "display_data"
    }
   ],
   "source": [
    "plt.plot(history.history['accuracy'])\n",
    "plt.plot(history.history['val_accuracy'])\n",
    "plt.title('model accuracy')\n",
    "plt.ylabel('accuracy')\n",
    "plt.xlabel('epoch')\n",
    "plt.legend(['train', 'test'], loc='upper left')\n",
    "plt.show()"
   ],
   "metadata": {
    "collapsed": false
   }
  },
  {
   "cell_type": "code",
   "execution_count": 19,
   "id": "0aa87ffa-56e2-499a-a907-e0e3dab7a59f",
   "metadata": {},
   "outputs": [],
   "source": [
    "# filename = \"models/model2_MobileNetV3Large\"\n",
    "# model = load_model(filename)\n",
    "prediction = model.predict(x = test_image, batch_size = 10, verbose = 0)"
   ]
  },
  {
   "cell_type": "code",
   "execution_count": 20,
   "id": "32d0b162-aeb3-45a3-8842-ffb54240c5d7",
   "metadata": {},
   "outputs": [
    {
     "name": "stdout",
     "output_type": "stream",
     "text": [
      "Accuracy:0.5675675675675675\n"
     ]
    }
   ],
   "source": [
    "predicted_labels = np.argmax(prediction, axis=1)\n",
    "label_map = {0: 'angry', 1: 'disgust', 2: 'fear', 3: 'happy', 4: 'neutral', 5: 'sad', 6: 'surprise'}\n",
    "true_labels = np.argmax(test_emotion_onehot, axis=1)\n",
    "num_of_wrong_predictions = 0\n",
    "\n",
    "invalid_prediction = []\n",
    "invalid_prediction_emotion = []\n",
    "invalid_emotion = []\n",
    "\n",
    "for i in range(len(test_emotion)):\n",
    "    if label_map[true_labels[i]] != label_map[predicted_labels[i]]:\n",
    "        invalid_prediction.append(test_image[i])\n",
    "        invalid_prediction_emotion.append(prediction[i])\n",
    "        invalid_emotion.append(test_emotion[i])\n",
    "\n",
    "\n",
    "print(f\"Accuracy:{len(invalid_emotion)/len(test_emotion)}\")\n",
    "\n",
    "invalid_prediction = np.array(invalid_prediction)\n",
    "invalid_prediction_emotion = np.array(invalid_prediction_emotion)\n",
    "invalid_emotion = np.array(invalid_emotion)"
   ]
  },
  {
   "cell_type": "code",
   "execution_count": 21,
   "outputs": [
    {
     "data": {
      "text/plain": "<Figure size 640x480 with 1 Axes>",
      "image/png": "[encoded data removed]"
     },
     "metadata": {},
     "output_type": "display_data"
    }
   ],
   "source": [
    "import matplotlib.pyplot as plt\n",
    "\n",
    "wrong_predictions_per_emotion = {'angry': 0, 'disgust': 0, 'fear': 0, 'happy': 0, 'neutral': 0, 'sad': 0, 'surprise': 0}\n",
    "\n",
    "for i in range(len(invalid_emotion)):\n",
    "    true_label = label_map[true_labels[i]]\n",
    "    predicted_label = label_map[predicted_labels[i]]\n",
    "    if true_label != predicted_label:\n",
    "        wrong_predictions_per_emotion[true_label] += 1\n",
    "\n",
    "plt.bar(wrong_predictions_per_emotion.keys(), wrong_predictions_per_emotion.values())\n",
    "plt.xlabel('Emotion')\n",
    "plt.ylabel('Number of wrong predictions')\n",
    "plt.show()"
   ],
   "metadata": {
    "collapsed": false
   }
  },
  {
   "cell_type": "code",
   "execution_count": 26,
   "outputs": [
    {
     "data": {
      "text/plain": "<Figure size 640x480 with 1 Axes>",
      "image/png": "[encoded data removed]"
     },
     "metadata": {},
     "output_type": "display_data"
    }
   ],
   "source": [
    "import matplotlib.pyplot as plt\n",
    "\n",
    "wrong_predictions_per_emotion = {'angry': 0, 'disgust': 0, 'fear': 0, 'happy': 0, 'neutral': 0, 'sad': 0, 'surprise': 0}\n",
    "test_cases_per_emotion = {'angry': 0, 'disgust': 0, 'fear': 0, 'happy': 0, 'neutral': 0, 'sad': 0, 'surprise': 0}\n",
    "ratio_of_wrong_predictions = {'angry': 0, 'disgust': 0, 'fear': 0, 'happy': 0, 'neutral': 0, 'sad': 0, 'surprise': 0}\n",
    "\n",
    "for i in range(len(invalid_emotion)):\n",
    "    true_label = label_map[true_labels[i]]\n",
    "    predicted_label = label_map[predicted_labels[i]]\n",
    "    test_cases_per_emotion[true_label] += 1\n",
    "    if true_label != predicted_label:\n",
    "        wrong_predictions_per_emotion[true_label] += 1\n",
    "\n",
    "for emotion in emotions:\n",
    "    ratio_of_wrong_predictions[emotion] = wrong_predictions_per_emotion[emotion] / test_cases_per_emotion[emotion]\n",
    "\n",
    "plt.bar(ratio_of_wrong_predictions.keys(), ratio_of_wrong_predictions.values())\n",
    "plt.xlabel('Emotion')\n",
    "plt.ylabel('Ratio of wrong predictions')\n",
    "plt.show()"
   ],
   "metadata": {
    "collapsed": false
   }
  }
 ],
 "metadata": {
  "kernelspec": {
   "display_name": "Python 3 (ipykernel)",
   "language": "python",
   "name": "python3"
  },
  "language_info": {
   "codemirror_mode": {
    "name": "ipython",
    "version": 3
   },
   "file_extension": ".py",
   "mimetype": "text/x-python",
   "name": "python",
   "nbconvert_exporter": "python",
   "pygments_lexer": "ipython3",
   "version": "3.9.13"
  }
 },
 "nbformat": 4,
 "nbformat_minor": 5
}
