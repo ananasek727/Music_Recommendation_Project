{
 "cells": [
  {
   "cell_type": "code",
   "execution_count": 1,
   "id": "e7718083-87dc-4917-9384-6bfc130d7c2b",
   "metadata": {},
   "outputs": [],
   "source": [
    "import numpy as np\n",
    "import pandas as pd\n",
    "import cv2\n",
    "import matplotlib.pyplot as plt\n",
    "import pandas as pd\n",
    "import matplotlib.image as mpimg\n",
    "import shutil\n",
    "import random\n",
    "import os\n",
    "import datetime\n",
    "import tensorflow as tf\n",
    "\n",
    "from sklearn.utils import shuffle\n",
    "from PIL import Image\n",
    "from tensorflow.keras import regularizers\n",
    "from tensorflow.keras.layers import GlobalAveragePooling2D, Dense, Dropout, Activation, Flatten, Conv2D, MaxPooling2D, Resizing, Rescaling, RandomFlip, RandomRotation, RandomBrightness, RandomContrast, BatchNormalization\n",
    "from tensorflow.keras.optimizers import Adamax\n",
    "from tensorflow.keras.preprocessing.image import ImageDataGenerator\n",
    "from tensorflow.keras.models import Model, load_model, Sequential\n",
    "from tensorflow.keras.applications import ResNet50\n",
    "from tensorflow.keras.applications.resnet_v2 import preprocess_input\n",
    "from tensorflow.keras.callbacks import EarlyStopping, ReduceLROnPlateau\n",
    "from tensorflow.keras import Input, Model\n",
    "from sklearn.metrics import confusion_matrix, classification_report, ConfusionMatrixDisplay\n",
    "from sklearn.model_selection import train_test_split\n",
    "import json"
   ]
  },
  {
   "cell_type": "code",
   "execution_count": 2,
   "metadata": {
    "collapsed": false
   },
   "outputs": [
    {
     "name": "stdout",
     "output_type": "stream",
     "text": [
      "train data...\n",
      "angry\n",
      "disgust\n",
      "fear\n",
      "happy\n",
      "neutral\n",
      "sad\n",
      "surprise\n",
      "test data...\n",
      "angry\n",
      "disgust\n",
      "fear\n",
      "happy\n",
      "neutral\n",
      "sad\n",
      "surprise\n"
     ]
    }
   ],
   "source": [
    "path = \"../FER2013_ver2\"\n",
    "emotions = os.listdir(f\"{path}/train\")\n",
    "\n",
    "train_image = []\n",
    "train_emotion = []\n",
    "\n",
    "print(\"train data...\")\n",
    "for emotion in emotions:\n",
    "    image_path = f\"{path}/train/{emotion}\"\n",
    "    files = os.listdir(image_path)\n",
    "    print(emotion)\n",
    "    for file in files:\n",
    "        img = cv2.imread(f\"{image_path}/{file}\")\n",
    "        img = cv2.cvtColor(img, cv2.COLOR_BGR2RGB)\n",
    "        img = cv2.resize(img, (224, 224))\n",
    "        train_image.append(img)\n",
    "        train_emotion.append(emotion)\n",
    "\n",
    "\n",
    "test_image = []\n",
    "test_emotion = []\n",
    "\n",
    "print(\"test data...\")\n",
    "for emotion in emotions:\n",
    "    image_path = f\"{path}/test/{emotion}\"\n",
    "    files = os.listdir(image_path)\n",
    "    print(emotion)\n",
    "    for file in files:\n",
    "        img = cv2.imread(f\"{image_path}/{file}\")\n",
    "        img = cv2.cvtColor(img, cv2.COLOR_BGR2RGB)\n",
    "        img = cv2.resize(img, (224, 224))\n",
    "        test_image.append(img)\n",
    "        test_emotion.append(emotion)\n",
    "\n",
    "\n",
    "train_image = np.array(train_image)\n",
    "train_emotion = np.array(train_emotion)\n",
    "train_image, train_emotion = shuffle(train_image, train_emotion, random_state=0)\n",
    "\n",
    "test_image = np.array(test_image)\n",
    "test_emotion = np.array(test_emotion)\n",
    "test_image, test_emotion = shuffle(test_image, test_emotion, random_state=0)"
   ]
  },
  {
   "cell_type": "code",
   "execution_count": 3,
   "metadata": {
    "collapsed": false
   },
   "outputs": [
    {
     "name": "stdout",
     "output_type": "stream",
     "text": [
      "(224, 224, 3)\n",
      "(3052,)\n",
      "(777, 224, 224, 3)\n",
      "(777,)\n",
      "happy\n"
     ]
    }
   ],
   "source": [
    "print(train_image[5].shape)\n",
    "print(train_emotion.shape)\n",
    "print(test_image.shape)\n",
    "print(test_emotion.shape)\n",
    "print(train_emotion[5])"
   ]
  },
  {
   "cell_type": "code",
   "execution_count": 4,
   "metadata": {
    "collapsed": false
   },
   "outputs": [],
   "source": [
    "label_map = {'angry': 0, 'disgust': 1, 'fear': 2, 'happy': 3, 'neutral': 4, 'sad': 5, 'surprise': 6}\n",
    "train_emotion_int = [label_map[label] for label in train_emotion]\n",
    "train_emotion_int = np.array(train_emotion_int)\n",
    "\n",
    "test_emotion_int = [label_map[label] for label in test_emotion]\n",
    "test_emotion_int = np.array(test_emotion_int)"
   ]
  },
  {
   "cell_type": "code",
   "execution_count": 5,
   "metadata": {
    "collapsed": false
   },
   "outputs": [
    {
     "name": "stdout",
     "output_type": "stream",
     "text": [
      "(3052, 7)\n",
      "(777, 7)\n",
      "[0. 0. 0. 0. 0. 1. 0.]\n"
     ]
    }
   ],
   "source": [
    "from keras.utils import to_categorical\n",
    "train_emotion_onehot = to_categorical(train_emotion_int)\n",
    "test_emotion_onehot = to_categorical(test_emotion_int)\n",
    "print(train_emotion_onehot.shape)\n",
    "print(test_emotion_onehot.shape)\n",
    "print(train_emotion_onehot[4])"
   ]
  },
  {
   "cell_type": "code",
   "execution_count": 6,
   "id": "97cf9c4e-3a07-468e-a7e9-0be690d53f88",
   "metadata": {},
   "outputs": [
    {
     "name": "stdout",
     "output_type": "stream",
     "text": [
      "Downloading data from https://storage.googleapis.com/tensorflow/keras-applications/resnet/resnet50_weights_tf_dim_ordering_tf_kernels_notop.h5\n",
      "94765736/94765736 [==============================] - 10s 0us/step\n",
      "Model: \"model\"\n",
      "_________________________________________________________________\n",
      " Layer (type)                Output Shape              Param #   \n",
      "=================================================================\n",
      " input_2 (InputLayer)        [(None, 224, 224, 3)]     0         \n",
      "                                                                 \n",
      " sequential (Sequential)     (None, 224, 224, 3)       0         \n",
      "                                                                 \n",
      " resnet50 (Functional)       (None, 7, 7, 2048)        23587712  \n",
      "                                                                 \n",
      " global_average_pooling2d (G  (None, 2048)             0         \n",
      " lobalAveragePooling2D)                                          \n",
      "                                                                 \n",
      " batch_normalization (BatchN  (None, 2048)             8192      \n",
      " ormalization)                                                   \n",
      "                                                                 \n",
      " dense (Dense)               (None, 32)                65568     \n",
      "                                                                 \n",
      " dropout (Dropout)           (None, 32)                0         \n",
      "                                                                 \n",
      " batch_normalization_1 (Batc  (None, 32)               128       \n",
      " hNormalization)                                                 \n",
      "                                                                 \n",
      " dense_1 (Dense)             (None, 32)                1056      \n",
      "                                                                 \n",
      " dropout_1 (Dropout)         (None, 32)                0         \n",
      "                                                                 \n",
      " batch_normalization_2 (Batc  (None, 32)               128       \n",
      " hNormalization)                                                 \n",
      "                                                                 \n",
      " dense_2 (Dense)             (None, 32)                1056      \n",
      "                                                                 \n",
      " dropout_2 (Dropout)         (None, 32)                0         \n",
      "                                                                 \n",
      " dense_3 (Dense)             (None, 7)                 231       \n",
      "                                                                 \n",
      "=================================================================\n",
      "Total params: 23,664,071\n",
      "Trainable params: 72,135\n",
      "Non-trainable params: 23,591,936\n",
      "_________________________________________________________________\n",
      "Epoch 1/100\n",
      "WARNING:tensorflow:Using a while_loop for converting RngReadAndSkip cause there is no registered converter for this op.\n",
      "WARNING:tensorflow:Using a while_loop for converting Bitcast cause there is no registered converter for this op.\n",
      "WARNING:tensorflow:Using a while_loop for converting Bitcast cause there is no registered converter for this op.\n",
      "WARNING:tensorflow:Using a while_loop for converting StatelessRandomUniformV2 cause there is no registered converter for this op.\n",
      "WARNING:tensorflow:Using a while_loop for converting ImageProjectiveTransformV3 cause there is no registered converter for this op.\n",
      "WARNING:tensorflow:Using a while_loop for converting RngReadAndSkip cause there is no registered converter for this op.\n",
      "WARNING:tensorflow:Using a while_loop for converting Bitcast cause there is no registered converter for this op.\n",
      "WARNING:tensorflow:Using a while_loop for converting Bitcast cause there is no registered converter for this op.\n",
      "WARNING:tensorflow:Using a while_loop for converting StatelessRandomUniformV2 cause there is no registered converter for this op.\n",
      "WARNING:tensorflow:Using a while_loop for converting ImageProjectiveTransformV3 cause there is no registered converter for this op.\n",
      "86/86 [==============================] - 141s 2s/step - loss: 2.0899 - accuracy: 0.1642 - val_loss: 1.9166 - val_accuracy: 0.2059\n",
      "Epoch 2/100\n",
      "86/86 [==============================] - 136s 2s/step - loss: 1.9698 - accuracy: 0.1974 - val_loss: 1.8480 - val_accuracy: 0.2614\n",
      "Epoch 3/100\n",
      "86/86 [==============================] - 141s 2s/step - loss: 1.8861 - accuracy: 0.2433 - val_loss: 1.7763 - val_accuracy: 0.3399\n",
      "Epoch 4/100\n",
      "86/86 [==============================] - 135s 2s/step - loss: 1.8398 - accuracy: 0.2742 - val_loss: 1.7386 - val_accuracy: 0.3301\n",
      "Epoch 5/100\n",
      "86/86 [==============================] - 139s 2s/step - loss: 1.8026 - accuracy: 0.2713 - val_loss: 1.7182 - val_accuracy: 0.3268\n",
      "Epoch 6/100\n",
      "86/86 [==============================] - 144s 2s/step - loss: 1.7678 - accuracy: 0.2993 - val_loss: 1.7059 - val_accuracy: 0.3170\n",
      "Epoch 7/100\n",
      "86/86 [==============================] - 148s 2s/step - loss: 1.7336 - accuracy: 0.3219 - val_loss: 1.6818 - val_accuracy: 0.3725\n",
      "Epoch 8/100\n",
      "86/86 [==============================] - 147s 2s/step - loss: 1.7031 - accuracy: 0.3336 - val_loss: 1.6405 - val_accuracy: 0.3595\n",
      "Epoch 9/100\n",
      "86/86 [==============================] - 144s 2s/step - loss: 1.7076 - accuracy: 0.3332 - val_loss: 1.6314 - val_accuracy: 0.3758\n",
      "Epoch 10/100\n",
      "86/86 [==============================] - 148s 2s/step - loss: 1.6749 - accuracy: 0.3525 - val_loss: 1.6344 - val_accuracy: 0.3856\n",
      "Epoch 11/100\n",
      "86/86 [==============================] - 149s 2s/step - loss: 1.6542 - accuracy: 0.3605 - val_loss: 1.6257 - val_accuracy: 0.4020\n",
      "Epoch 12/100\n",
      "86/86 [==============================] - 153s 2s/step - loss: 1.6634 - accuracy: 0.3474 - val_loss: 1.5756 - val_accuracy: 0.4216\n",
      "Epoch 13/100\n",
      "86/86 [==============================] - 145s 2s/step - loss: 1.6199 - accuracy: 0.3765 - val_loss: 1.5610 - val_accuracy: 0.4346\n",
      "Epoch 14/100\n",
      "86/86 [==============================] - 143s 2s/step - loss: 1.6208 - accuracy: 0.3791 - val_loss: 1.5557 - val_accuracy: 0.3954\n",
      "Epoch 15/100\n",
      "86/86 [==============================] - 141s 2s/step - loss: 1.5981 - accuracy: 0.3937 - val_loss: 1.5376 - val_accuracy: 0.4510\n",
      "Epoch 16/100\n",
      "86/86 [==============================] - 147s 2s/step - loss: 1.5909 - accuracy: 0.4013 - val_loss: 1.5836 - val_accuracy: 0.4216\n",
      "Epoch 17/100\n",
      "86/86 [==============================] - 148s 2s/step - loss: 1.5654 - accuracy: 0.3995 - val_loss: 1.5866 - val_accuracy: 0.4281\n",
      "Epoch 18/100\n",
      "86/86 [==============================] - 143s 2s/step - loss: 1.5640 - accuracy: 0.3995 - val_loss: 1.5620 - val_accuracy: 0.4477\n",
      "Epoch 19/100\n",
      "86/86 [==============================] - 141s 2s/step - loss: 1.5671 - accuracy: 0.4090 - val_loss: 1.5418 - val_accuracy: 0.3954\n",
      "Epoch 20/100\n",
      "86/86 [==============================] - 138s 2s/step - loss: 1.5464 - accuracy: 0.4031 - val_loss: 1.5432 - val_accuracy: 0.3922\n",
      "Epoch 21/100\n",
      "86/86 [==============================] - 139s 2s/step - loss: 1.5326 - accuracy: 0.4188 - val_loss: 1.5308 - val_accuracy: 0.4216\n",
      "Epoch 22/100\n",
      "86/86 [==============================] - 141s 2s/step - loss: 1.5125 - accuracy: 0.4272 - val_loss: 1.5449 - val_accuracy: 0.4052\n",
      "Epoch 23/100\n",
      "86/86 [==============================] - 136s 2s/step - loss: 1.4981 - accuracy: 0.4403 - val_loss: 1.5449 - val_accuracy: 0.4052\n",
      "Epoch 24/100\n",
      "86/86 [==============================] - 141s 2s/step - loss: 1.4991 - accuracy: 0.4359 - val_loss: 1.5451 - val_accuracy: 0.4118\n",
      "Epoch 25/100\n",
      "86/86 [==============================] - 137s 2s/step - loss: 1.4639 - accuracy: 0.4461 - val_loss: 1.5264 - val_accuracy: 0.4183\n",
      "Epoch 26/100\n",
      "86/86 [==============================] - 137s 2s/step - loss: 1.4864 - accuracy: 0.4392 - val_loss: 1.5325 - val_accuracy: 0.4020\n",
      "Epoch 27/100\n",
      "86/86 [==============================] - 139s 2s/step - loss: 1.4659 - accuracy: 0.4512 - val_loss: 1.5306 - val_accuracy: 0.4118\n",
      "Epoch 28/100\n",
      "86/86 [==============================] - 137s 2s/step - loss: 1.4632 - accuracy: 0.4530 - val_loss: 1.5461 - val_accuracy: 0.4085\n",
      "Epoch 29/100\n",
      "86/86 [==============================] - 137s 2s/step - loss: 1.4648 - accuracy: 0.4490 - val_loss: 1.6107 - val_accuracy: 0.4085\n",
      "Epoch 30/100\n",
      "86/86 [==============================] - ETA: 0s - loss: 1.4678 - accuracy: 0.4574Restoring model weights from the end of the best epoch: 15.\n",
      "86/86 [==============================] - 137s 2s/step - loss: 1.4678 - accuracy: 0.4574 - val_loss: 1.5707 - val_accuracy: 0.4085\n",
      "Epoch 30: early stopping\n"
     ]
    }
   ],
   "source": [
    "from tensorflow.keras.applications import ResNet50\n",
    "\n",
    "early_stopping = tf.keras.callbacks.EarlyStopping(monitor='val_accuracy',\n",
    "                                                  patience=15,\n",
    "                                                  mode='max',\n",
    "                                                  verbose=1,\n",
    "                                                  restore_best_weights=True)\n",
    "                                                  \n",
    "#preprocessing layers\n",
    "data_augmentation = tf.keras.Sequential([\n",
    "    tf.keras.layers.RandomFlip('horizontal'),\n",
    "    tf.keras.layers.RandomRotation(0.2),\n",
    "])\n",
    "\n",
    "base_model = ResNet50(\n",
    "    weights='imagenet',  # Load weights pre-trained on ImageNet.\n",
    "    input_shape=(224, 224, 3),\n",
    "    include_top=False)  \n",
    "base_model.trainable = False\n",
    "\n",
    "#preprocessing layers + augmentations\n",
    "\n",
    "#### TUTAJ INSPIRACJA https://www.kaggle.com/code/yasserhessein/emotion-recognition-with-resnet50\n",
    "inputs = Input(shape=(224, 224, 3))\n",
    "x = data_augmentation(inputs)\n",
    "\n",
    "x = base_model(x, training=False)\n",
    "\n",
    "x = GlobalAveragePooling2D()(x)\n",
    "x = BatchNormalization()(x)\n",
    "x = Dense(32, activation='relu')(x)\n",
    "x = Dropout(0.2)(x)\n",
    "\n",
    "x = BatchNormalization()(x)\n",
    "x = Dense(32, activation='relu')(x)\n",
    "x = Dropout(0.2)(x)\n",
    "\n",
    "x = BatchNormalization()(x)\n",
    "x = Dense(32, activation='relu')(x)\n",
    "x = Dropout(0.2)(x)\n",
    "\n",
    "outputs = Dense(7, activation='softmax')(x)\n",
    "\n",
    "model = Model(inputs, outputs)\n",
    "model.compile(optimizer='adam', loss='categorical_crossentropy', metrics=['accuracy'])\n",
    "model.summary()\n",
    "\n",
    "history = model.fit(train_image, train_emotion_onehot, batch_size=32,\n",
    "                    epochs = 100, validation_split = 0.1,\n",
    "                    callbacks = [early_stopping])\n"
   ]
  },
  {
   "cell_type": "code",
   "execution_count": 7,
   "metadata": {
    "collapsed": false
   },
   "outputs": [
    {
     "name": "stdout",
     "output_type": "stream",
     "text": [
      "WARNING:tensorflow:Using a while_loop for converting RngReadAndSkip cause there is no registered converter for this op.\n",
      "WARNING:tensorflow:Using a while_loop for converting Bitcast cause there is no registered converter for this op.\n",
      "WARNING:tensorflow:Using a while_loop for converting Bitcast cause there is no registered converter for this op.\n",
      "WARNING:tensorflow:Using a while_loop for converting StatelessRandomUniformV2 cause there is no registered converter for this op.\n",
      "WARNING:tensorflow:Using a while_loop for converting ImageProjectiveTransformV3 cause there is no registered converter for this op.\n",
      "WARNING:tensorflow:Using a while_loop for converting RngReadAndSkip cause there is no registered converter for this op.\n",
      "WARNING:tensorflow:Using a while_loop for converting Bitcast cause there is no registered converter for this op.\n",
      "WARNING:tensorflow:Using a while_loop for converting Bitcast cause there is no registered converter for this op.\n",
      "WARNING:tensorflow:Using a while_loop for converting StatelessRandomUniformV2 cause there is no registered converter for this op.\n",
      "WARNING:tensorflow:Using a while_loop for converting ImageProjectiveTransformV3 cause there is no registered converter for this op.\n",
      "WARNING:tensorflow:Using a while_loop for converting RngReadAndSkip cause there is no registered converter for this op.\n",
      "WARNING:tensorflow:Using a while_loop for converting Bitcast cause there is no registered converter for this op.\n",
      "WARNING:tensorflow:Using a while_loop for converting Bitcast cause there is no registered converter for this op.\n",
      "WARNING:tensorflow:Using a while_loop for converting StatelessRandomUniformV2 cause there is no registered converter for this op.\n",
      "WARNING:tensorflow:Using a while_loop for converting ImageProjectiveTransformV3 cause there is no registered converter for this op.\n",
      "WARNING:tensorflow:Using a while_loop for converting RngReadAndSkip cause there is no registered converter for this op.\n",
      "WARNING:tensorflow:Using a while_loop for converting Bitcast cause there is no registered converter for this op.\n",
      "WARNING:tensorflow:Using a while_loop for converting Bitcast cause there is no registered converter for this op.\n",
      "WARNING:tensorflow:Using a while_loop for converting StatelessRandomUniformV2 cause there is no registered converter for this op.\n",
      "WARNING:tensorflow:Using a while_loop for converting ImageProjectiveTransformV3 cause there is no registered converter for this op.\n"
     ]
    },
    {
     "name": "stderr",
     "output_type": "stream",
     "text": [
      "WARNING:absl:Found untraced functions such as _jit_compiled_convolution_op, _jit_compiled_convolution_op, _jit_compiled_convolution_op, _jit_compiled_convolution_op, _jit_compiled_convolution_op while saving (showing 5 of 53). These functions will not be directly callable after loading.\n"
     ]
    },
    {
     "name": "stdout",
     "output_type": "stream",
     "text": [
      "INFO:tensorflow:Assets written to: models/model1_ResNet50\\assets\n"
     ]
    },
    {
     "name": "stderr",
     "output_type": "stream",
     "text": [
      "INFO:tensorflow:Assets written to: models/model1_ResNet50\\assets\n"
     ]
    }
   ],
   "source": [
    "model_dir = \"models/model1_ResNet50\"\n",
    "model.save(model_dir)\n",
    "with open(\"history/model1_ResNet50.json\", \"w\") as json_file:\n",
    "    json.dump(history.history, json_file)"
   ]
  },
  {
   "cell_type": "code",
   "execution_count": 8,
   "outputs": [],
   "source": [
    "# with open(\"history/model1_ResNet50.json\", \"r\") as json_file:\n",
    "#     history = json.load(json_file)"
   ],
   "metadata": {
    "collapsed": false
   }
  },
  {
   "cell_type": "code",
   "execution_count": 9,
   "outputs": [
    {
     "data": {
      "text/plain": "<Figure size 640x480 with 1 Axes>",
      "image/png": "[encoded data removed]"
     },
     "metadata": {},
     "output_type": "display_data"
    }
   ],
   "source": [
    "plt.plot(history.history['accuracy'])\n",
    "plt.plot(history.history['val_accuracy'])\n",
    "plt.title('model accuracy')\n",
    "plt.ylabel('accuracy')\n",
    "plt.xlabel('epoch')\n",
    "plt.legend(['train', 'test'], loc='upper left')\n",
    "plt.show()"
   ],
   "metadata": {
    "collapsed": false
   }
  },
  {
   "cell_type": "code",
   "execution_count": 10,
   "id": "0aa87ffa-56e2-499a-a907-e0e3dab7a59f",
   "metadata": {},
   "outputs": [],
   "source": [
    "# filename = \"models/model1_ResNet50\"\n",
    "# model = load_model(filename)\n",
    "prediction = model.predict(x = test_image, batch_size = 10, verbose = 0)"
   ]
  },
  {
   "cell_type": "code",
   "execution_count": 11,
   "id": "32d0b162-aeb3-45a3-8842-ffb54240c5d7",
   "metadata": {},
   "outputs": [
    {
     "name": "stdout",
     "output_type": "stream",
     "text": [
      "Accuracy:0.5842985842985843\n"
     ]
    }
   ],
   "source": [
    "predicted_labels = np.argmax(prediction, axis=1)\n",
    "label_map = {0: 'angry', 1: 'disgust', 2: 'fear', 3: 'happy', 4: 'neutral', 5: 'sad', 6: 'surprise'}\n",
    "true_labels = np.argmax(test_emotion_onehot, axis=1)\n",
    "num_of_wrong_predictions = 0\n",
    "\n",
    "invalid_prediction = []\n",
    "invalid_prediction_emotion = []\n",
    "invalid_emotion = []\n",
    "\n",
    "for i in range(len(test_emotion)):\n",
    "    if label_map[true_labels[i]] != label_map[predicted_labels[i]]:\n",
    "        invalid_prediction.append(test_image[i])\n",
    "        invalid_prediction_emotion.append(prediction[i])\n",
    "        invalid_emotion.append(test_emotion[i])\n",
    "\n",
    "\n",
    "print(f\"Accuracy:{len(invalid_emotion)/len(test_emotion)}\")\n",
    "\n",
    "invalid_prediction = np.array(invalid_prediction)\n",
    "invalid_prediction_emotion = np.array(invalid_prediction_emotion)\n",
    "invalid_emotion = np.array(invalid_emotion)"
   ]
  },
  {
   "cell_type": "code",
   "execution_count": 12,
   "metadata": {
    "collapsed": false
   },
   "outputs": [
    {
     "data": {
      "text/plain": "<Figure size 640x480 with 1 Axes>",
      "image/png": "[encoded data removed]"
     },
     "metadata": {},
     "output_type": "display_data"
    }
   ],
   "source": [
    "import matplotlib.pyplot as plt\n",
    "\n",
    "wrong_predictions_per_emotion = {'angry': 0, 'disgust': 0, 'fear': 0, 'happy': 0, 'neutral': 0, 'sad': 0, 'surprise': 0}\n",
    "\n",
    "for i in range(len(invalid_emotion)):\n",
    "    true_label = label_map[true_labels[i]]\n",
    "    predicted_label = label_map[predicted_labels[i]]\n",
    "    if true_label != predicted_label:\n",
    "        wrong_predictions_per_emotion[true_label] += 1\n",
    "\n",
    "plt.bar(wrong_predictions_per_emotion.keys(), wrong_predictions_per_emotion.values())\n",
    "plt.xlabel('Emotion')\n",
    "plt.ylabel('Number of wrong predictions')\n",
    "plt.show()"
   ]
  },
  {
   "cell_type": "code",
   "execution_count": 13,
   "metadata": {
    "collapsed": false
   },
   "outputs": [
    {
     "data": {
      "text/plain": "<Figure size 640x480 with 1 Axes>",
      "image/png": "[encoded data removed]"
     },
     "metadata": {},
     "output_type": "display_data"
    }
   ],
   "source": [
    "import matplotlib.pyplot as plt\n",
    "\n",
    "wrong_predictions_per_emotion = {'angry': 0, 'disgust': 0, 'fear': 0, 'happy': 0, 'neutral': 0, 'sad': 0, 'surprise': 0}\n",
    "test_cases_per_emotion = {'angry': 0, 'disgust': 0, 'fear': 0, 'happy': 0, 'neutral': 0, 'sad': 0, 'surprise': 0}\n",
    "ratio_of_wrong_predictions = {'angry': 0, 'disgust': 0, 'fear': 0, 'happy': 0, 'neutral': 0, 'sad': 0, 'surprise': 0}\n",
    "\n",
    "for i in range(len(invalid_emotion)):\n",
    "    true_label = label_map[true_labels[i]]\n",
    "    predicted_label = label_map[predicted_labels[i]]\n",
    "    test_cases_per_emotion[true_label] += 1\n",
    "    if true_label != predicted_label:\n",
    "        wrong_predictions_per_emotion[true_label] += 1\n",
    "\n",
    "for emotion in emotions:\n",
    "    ratio_of_wrong_predictions[emotion] = wrong_predictions_per_emotion[emotion] / test_cases_per_emotion[emotion]\n",
    "\n",
    "plt.bar(ratio_of_wrong_predictions.keys(), ratio_of_wrong_predictions.values())\n",
    "plt.xlabel('Emotion')\n",
    "plt.ylabel('Ratio of wrong predictions')\n",
    "plt.show()"
   ]
  }
 ],
 "metadata": {
  "kernelspec": {
   "display_name": "Python 3 (ipykernel)",
   "language": "python",
   "name": "python3"
  },
  "language_info": {
   "codemirror_mode": {
    "name": "ipython",
    "version": 3
   },
   "file_extension": ".py",
   "mimetype": "text/x-python",
   "name": "python",
   "nbconvert_exporter": "python",
   "pygments_lexer": "ipython3",
   "version": "3.9.13"
  }
 },
 "nbformat": 4,
 "nbformat_minor": 5
}
